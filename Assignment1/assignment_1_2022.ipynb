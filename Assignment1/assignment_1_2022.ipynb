{
 "cells": [
  {
   "cell_type": "markdown",
   "metadata": {},
   "source": [
    "![title](img/logo.png)\n",
    "# Biometrics System Concepts\n",
    "## Assignment 1: Evaluating performance of biometric systems\n",
    "<b>Name</b>: Marty McFly |\n",
    "<b>Student-nr</b>: C25 |\n",
    "<b>Date</b>: June 12, 2015\n",
    "---\n",
    "\n",
    "In this assignment we focus on evaluating the performance of any biometric system in a verification and identification setting. \n",
    "\n",
    "Before you get started you should be able to properly distinguish verification from identification and know the corresponding validation procedures. If this is not the case for you yet, **review the lecture notes!** We will give a short recap to refresh your memory: \n",
    "* **VERIFICATION** (a.k.a. authentication): Authenticating a claimed identity (is this person who he/she claims to be?).\n",
    "\n",
    "* **IDENTIFICATION**: Associate a particular individual with an identity (who is this unidentified individual?).\n",
    "\n",
    "This document is structured as follows:\n",
    "\n",
    "- [I. Reading the data](#I.-Reading-the-data)\n",
    "- [II. Validation of verification system](#II.-Validation-of-verification-system)\n",
    "- [III. Validation of identification system](#III.-Validation-of-identification-system)\n",
    "- [IV. Assignment Instructions](#IV.-Assignment-Instructions)\n",
    "\n",
    "\n",
    "Code examples will be provided below. You can and are invited to adapt these at your will (different parameter settings, different choices of alogorithmic components). The code examples in this assignment are just sekeleton code,  **adapt where needed! And try to keep things structured!** "
   ]
  },
  {
   "cell_type": "code",
   "execution_count": 13,
   "metadata": {
    "tags": []
   },
   "outputs": [],
   "source": [
    "# Install and import the required python packages to run this notebook. Feel free to add more packages whenever needed.\n",
    "import numpy as np\n",
    "import matplotlib.pyplot as plt\n",
    "# the following meta-command is required to get plots displayed in notebooks\n",
    "%matplotlib inline\n",
    "\n",
    "# package for reading xml files\n",
    "import xml.etree.ElementTree as ET\n",
    "import os\n",
    "\n",
    "# package for data analysis with fast and flexible data structures\n",
    "import pandas as pd\n",
    "\n",
    "# package to show a nice graphical progress-bar for lengthy calculations\n",
    "# docu and installation on https://tqdm.github.io\n",
    "# if you have difficulties installing this package: \n",
    "# - make sure your jupyter lab is up to date\n",
    "# - https://github.com/tqdm/tqdm/issues/394#issuecomment-384743637\n",
    "# - consider just leaving it out (just remove the 'tqdm_notebook' in the code)\n",
    "from tqdm.notebook import tqdm as tqdm_notebook\n",
    "from matplotlib.pyplot import figure\n",
    "\n",
    "# import local modules for reading and converting BSSR1 fingerprint score data\n",
    "import src.BSSR1 as BSSR1\n",
    "import pickle\n",
    "\n",
    "# imports for scipy\n",
    "from scipy.stats import norm\n",
    "from scipy.stats import poisson\n",
    "\n",
    "\n",
    "#imports for sklearn\n",
    "from sklearn import metrics\n",
    "from sklearn.metrics import roc_auc_score"
   ]
  },
  {
   "cell_type": "markdown",
   "metadata": {},
   "source": [
    "<div class=\"alert alert-block alert-info\">\n",
    "<b>Tip:</b> \n",
    "Many operations have already been implemented in <a href=\"https://docs.scipy.org/doc/numpy/index.html\">SciPy</a>, feel free to use them or any other unless explicitely stated not to in the assignment.</div>"
   ]
  },
  {
   "cell_type": "markdown",
   "metadata": {},
   "source": [
    "## I. Reading the data\n",
    "In this assignment we focus on the validation of a pre-exising biometric system. We will make use of actual predicted fingerprint similarity scores, from the left and right index fingers. This bypasses all steps of preprocessing, feature extraction and matching and allows us to concentrate on the score evaluation procedures. The scores are the result of comparing an enrolled user's image with that of the same (genuine scores) or another user (impostor scores). The data (biometrics scores set BSSR1) are made available through the American National Institute of Standards and Technologies [(NIST)](https://www.nist.gov/itl/iad/image-group/nist-biometric-scores-set-bssr1). They are provided as part of your assignment folder in the `data/fing-x-fing` subfolder. \n",
    "\n",
    "In this code example we will compare the performance of a biometric system that was based on the right index finger to a biometric system based on the left index finger. These systems are referred to as `ri` and `li` respectively in both code and text.  "
   ]
  },
  {
   "cell_type": "markdown",
   "metadata": {},
   "source": [
    "### 1.1. Loading the similarity matrix and reading the genuine and impostor scores\n",
    "We provide you with the code to read the scores from the files (normally you can leave this code as-is).\n",
    "\n",
    "The code consits of 2 steps that are executed for both the `ri` and `li` system: \n",
    "1. Scores are converted to similarity matrices. To simplify the task we have provided you with the similarity matrices. You need to load the similarity matrices with the genuine scores on the diagonal and the impostor scores on the off-diagonal elements.  \n",
    "2. Convert the original scores to a linear list of scores with associated labels of genuine or impostor (simplifies use of [scikit-learn](https://scikit-learn.org/stable/index.html))\n",
    "\n"
   ]
  },
  {
   "cell_type": "code",
   "execution_count": 14,
   "metadata": {
    "tags": []
   },
   "outputs": [],
   "source": [
    "# STEP 1: loading the similarity matrices for left and right index fingers\n",
    "with open('./data/li_similarity_matrix.pickle', 'rb') as f:\n",
    "    li_similarity_matrix = pickle.load(f)\n",
    "with open('./data/ri_similarity_matrix.pickle', 'rb') as f:\n",
    "    ri_similarity_matrix = pickle.load(f)"
   ]
  },
  {
   "cell_type": "code",
   "execution_count": 15,
   "metadata": {
    "tags": []
   },
   "outputs": [],
   "source": [
    "# STEP 2: convert to genuine and impostor scores, the *_genuine_id provides a mask for the genuine scores\n",
    "li_genuine_id, li_scores = BSSR1.sim2scores(li_similarity_matrix)\n",
    "ri_genuine_id, ri_scores = BSSR1.sim2scores(ri_similarity_matrix)"
   ]
  },
  {
   "cell_type": "markdown",
   "metadata": {},
   "source": [
    "<div class=\"alert alert-block alert-info\">\n",
    "<b>Tip:</b> \n",
    "In this assignment we focus only on evaluating biometric systems. It is in your best interest to write your code such that it can easily be reused in the upcoming assignments, where you will have to develop entire biometric system pipelines.</div>"
   ]
  },
  {
   "cell_type": "code",
   "execution_count": 16,
   "metadata": {},
   "outputs": [
    {
     "name": "stdout",
     "output_type": "stream",
     "text": [
      "done: calculated the scores and sorted them\n"
     ]
    }
   ],
   "source": [
    "#use the mask to make two new lists with both scores for both fingers\n",
    "def calculateScores(ids, scores):\n",
    "    imposter_scores = []\n",
    "    genuine_scores = []\n",
    "    for i,g_or_not in enumerate(ids):\n",
    "        if g_or_not == 0:\n",
    "            imposter_scores.append(scores[i])\n",
    "        else:\n",
    "            genuine_scores.append(scores[i])\n",
    "    genuine_scores = np.sort(genuine_scores)\n",
    "    imposter_scores = np.sort(imposter_scores)\n",
    "    return imposter_scores, genuine_scores\n",
    "\n",
    "tuple_li = calculateScores(li_genuine_id, li_scores)\n",
    "tuple_ri = calculateScores(ri_genuine_id, ri_scores)\n",
    "imposter_scores_li = tuple_li[0]\n",
    "genuine_scores_li = tuple_li[1]\n",
    "imposter_scores_ri = tuple_ri[0]\n",
    "genuine_scores_ri = tuple_li[1]\n",
    "print(\"done: calculated the scores and sorted them\")"
   ]
  },
  {
   "cell_type": "markdown",
   "metadata": {},
   "source": [
    "## II. Validation of verification system\n",
    "\n",
    "[1]: <https://link.springer.com/book/10.1007/978-0-387-77326-1> ('Introduction to Biometrics' by AK Jain et al)\n",
    "[2]: <https://machinelearningmastery.com/roc-curves-and-precision-recall-curves-for-classification-in-python/> (How and When to Use ROC Curves and Precision-Recall Curves for Classification in Python)\n",
    "\n",
    "The performance of a verification scenario can be expressed in a number of ways (see [Jain et al.][1] section 1.4.1.1 for more information). In essence one has a binary classification problem: is it the claimed identity or not? \n",
    "\n",
    "We denote our classes as:\n",
    "<ol start=\"0\">\n",
    "  <li>Impostor (False),</li>\n",
    "  <li>Genuine (True).</li>\n",
    "</ol>\n",
    "\n",
    "Furthermore, we represent the set of scores as s, the imposter event as $I$ and a genuine event as $G$."
   ]
  },
  {
   "cell_type": "markdown",
   "metadata": {},
   "source": [
    "### 1. Evaluation using FMR, FRR, ROC and Precision/Recall curves\n",
    "\n",
    "[1]: <https://link.springer.com/book/10.1007/978-0-387-77326-1> ('Introduction to Biometrics' by AK Jain et al)\n",
    "[2]: <https://machinelearningmastery.com/roc-curves-and-precision-recall-curves-for-classification-in-python/> (How and When to Use ROC Curves and Precision-Recall Curves for Classification in Python)\n",
    "\n",
    "\n",
    "\n",
    "#### 1.1 Genuine and impostor score distributions\n",
    "Given the genuine and impostor scores (from section I), we can plot the imposter $p(s | I)$ and genuine $p(s | G)$ distribution to gain some first insights in the system. The result should look something like this:\n",
    "\n",
    "<p align=\"center\">\n",
    "    <img src=\"img/ScoreDistributions.png\" width=\"250\" height=\"auto\"/>\n",
    "</p>\n"
   ]
  },
  {
   "cell_type": "markdown",
   "metadata": {},
   "source": [
    "<div class=\"alert alert-block alert-success\">\n",
    "<b>Q1: </b> Score distributions\n",
    "<ul>\n",
    "  <li>Plot the genuine and impostor score distributions in a single plot.</li>\n",
    "  <li>Do you need to normalize the distributions? Why (not)?</li>\n",
    "  <li>Describe qualitatively this combined plot (hint: limit the score range for better understanding)</li>\n",
    "</ul>  \n",
    "</div>"
   ]
  },
  {
   "cell_type": "code",
   "execution_count": 17,
   "metadata": {
    "tags": []
   },
   "outputs": [
    {
     "name": "stdout",
     "output_type": "stream",
     "text": [
      "done: plotted the score distributions\n"
     ]
    },
    {
     "data": {
      "image/png": "[encoded data removed]",
      "text/plain": [
       "<Figure size 1133.86x708.661 with 2 Axes>"
      ]
     },
     "metadata": {
      "needs_background": "light"
     },
     "output_type": "display_data"
    },
    {
     "data": {
      "image/png": "[encoded data removed]",
      "text/plain": [
       "<Figure size 1133.86x708.661 with 2 Axes>"
      ]
     },
     "metadata": {
      "needs_background": "light"
     },
     "output_type": "display_data"
    }
   ],
   "source": [
    "\"\"\"Plot the genuine and imposter score distributions.\"\"\"\n",
    "#calculate the probabilty density function y values \n",
    "genuine_li_pdf = norm.pdf(genuine_scores_li, np.mean(genuine_scores_li), np.std(genuine_scores_li))\n",
    "imposter_li_pdf = norm.pdf(imposter_scores_li, np.mean(imposter_scores_li), np.std(imposter_scores_li))\n",
    "genuine_ri_pdf = norm.pdf(genuine_scores_ri, np.mean(genuine_scores_ri), np.std(genuine_scores_ri))\n",
    "imposter_ri_pdf = norm.pdf(imposter_scores_ri, np.mean(imposter_scores_ri), np.std(imposter_scores_ri))\n",
    "#normalised\n",
    "# genuine_scores_li_norm = np.true_divide(genuine_scores_li - min(genuine_scores_li),max(genuine_scores_li) - min(genuine_scores_li))\n",
    "# imposter_scores_li_norm = np.true_divide(imposter_scores_li - min(imposter_scores_li),max(imposter_scores_li) - min(imposter_scores_li))\n",
    "# genuine_scores_ri_norm = np.true_divide(genuine_scores_ri - min(genuine_scores_ri),max(genuine_scores_ri) - min(genuine_scores_ri))\n",
    "# imposter_scores_ri_norm = np.true_divide(imposter_scores_ri - min(imposter_scores_ri),max(imposter_scores_ri) - min(imposter_scores_ri))\n",
    "# genuine_li_pdf_norm = norm.pdf(genuine_scores_li_norm, np.mean(genuine_scores_li_norm), np.std(genuine_scores_li_norm))\n",
    "# imposter_li_pdf_norm = norm.pdf(imposter_scores_li_norm, np.mean(imposter_scores_li_norm), np.std(imposter_scores_li_norm))\n",
    "# genuine_ri_pdf_norm = norm.pdf(genuine_scores_ri_norm, np.mean(genuine_scores_ri_norm), np.std(genuine_scores_ri_norm))\n",
    "# imposter_ri_pdf_norm = norm.pdf(imposter_scores_ri_norm, np.mean(imposter_scores_ri_norm), np.std(imposter_scores_ri_norm))\n",
    "\n",
    "\n",
    "#plot these values\n",
    "fig, ax = plt.subplots(2, 1)\n",
    "ax[0].plot(genuine_scores_li, genuine_li_pdf,'b-', label = \"Genuine\")\n",
    "ax[0].plot(imposter_scores_li, imposter_li_pdf,'r-', label = \"Imposter\")\n",
    "ax[1].plot(genuine_scores_ri, genuine_ri_pdf,'b-', label = \"Genuine\")\n",
    "ax[1].plot(imposter_scores_ri, imposter_ri_pdf,'r-', label = \"Imposter\")\n",
    "fig = plt.gcf()\n",
    "ax[0].set_xlabel(\"Scores\")\n",
    "ax[0].set_ylabel(\"Probability\")\n",
    "ax[0].set_title(\"Left Index finger PDF\")\n",
    "ax[1].set_xlabel(\"Scores\")\n",
    "ax[1].set_ylabel(\"Probability\")\n",
    "ax[1].set_title(\"Right Index finger PDF\")\n",
    "ax[0].legend()\n",
    "ax[1].legend()\n",
    "ax[0].set_xbound(0,0.2)\n",
    "ax[1].set_xbound(0,0.2)\n",
    "fig.set_size_inches(40/2.54,25/2.54)\n",
    "\n",
    "# histogram is also possible of course\n",
    "fig2, ax2 = plt.subplots(2, 1)\n",
    "ax2[0].hist(genuine_scores_li, bins = 80, weights=np.ones(len(genuine_scores_li)) / len(genuine_scores_li), label='Genuine', color = 'blue');\n",
    "ax2[0].hist(imposter_scores_li, bins = 40, weights=np.ones(len(imposter_scores_li)) / len(imposter_scores_li), label='Imposter', color = 'red');\n",
    "ax2[1].hist(genuine_scores_ri, bins = 80, weights=np.ones(len(genuine_scores_ri)) / len(genuine_scores_ri), label='Genuine', color = 'blue');\n",
    "ax2[1].hist(imposter_scores_ri, bins = 40, weights=np.ones(len(imposter_scores_ri)) / len(imposter_scores_ri), label='Imposter', color = 'red');\n",
    "fig2 = plt.gcf()\n",
    "ax2[0].set_xlabel(\"Scores\")\n",
    "ax2[0].set_ylabel(\"Probability\")\n",
    "ax2[1].set_xlabel(\"Scores\")\n",
    "ax2[1].set_ylabel(\"Probability\")\n",
    "ax2[0].set_title(\"Left Index finger histogram\")\n",
    "ax2[1].set_title(\"Right Index finger histogram\")\n",
    "ax2[0].set_ybound(0,0.4)\n",
    "ax2[1].set_ybound(0,0.4)\n",
    "ax2[0].legend()\n",
    "ax2[1].legend()\n",
    "\n",
    "\n",
    "fig2.set_size_inches(40/2.54,25/2.54)\n",
    "\n",
    "\n",
    "print(\"done: plotted the score distributions\")"
   ]
  },
  {
   "cell_type": "markdown",
   "metadata": {},
   "source": [
    "#### 2. FMR, FRR and Receiver Operating Characteristic (ROC) curve\n",
    "\n",
    "The 'false accept' and 'false reject' regions in the illustration above are quantified using the False Match/Acceptance Rates (FMR/FAR) and False Non-Match/Rejections Rates (FNMR/FRR). The FMR and FNMR can easily be computed given the previously calculated probability distributions and a threshold value $\\eta$. Practically this boils down to a counting problem, having $\\mathcal{I}$ the indicator function (return 1 if x is true, else 0) we can compute:\n",
    "$$\n",
    "FMR(\\eta) = p(s \\geq \\eta | I) \\approx \\frac{1}{|I|} \\sum_{s \\in I} \\mathcal{I}(s \\geq \\eta),\n",
    "$$\n",
    "$$\n",
    "FRR(\\eta) = p(s < \\eta | G) \\approx \\frac{1}{|G|} \\sum_{s \\in G} \\mathcal{I}(s < \\eta).\n",
    "$$\n",
    "\n",
    "We can also compute the Genuine Acceptance Rate (GAR)/True Match Rate (TMR) as:\n",
    "$$\n",
    "GAR(\\eta) = p(s \\geq \\eta | G) = 1 - FRR(\\eta).\n",
    "$$\n",
    "\n",
    "Note that choosing a threshold is always a tradeof between FMR and FNMR. <br>\n",
    "<img src=\"img/FAR_FRR.png\" width=\"300\" height=\"auto\" align=\"center\"/>\n",
    "\n",
    "To observe the impact of the threshold value, one often plots a [Receiver Operating Characteristic (ROC)](https://en.wikipedia.org/wiki/Receiver_operating_characteristic) curve. Usually in these curves the GAR/TMR is plotted against the FMR for different decision threshold values $\\eta$. For those familiar with binary classification systems outside of the biometrics literature; the GAR/TMR is often referred to as the True Positive Rate (TPR), sensitivity or recall and FMR is also known as the False Positive Rate (FPR) or the False Accept Rate (FAR). \n",
    "\n",
    "<img src=\"img/ROC.png\" width=\"700\" height=\"auto\" align=\"center\"/>"
   ]
  },
  {
   "cell_type": "markdown",
   "metadata": {},
   "source": [
    "<div class=\"alert alert-block alert-success\">\n",
    "<b>Q2: </b> ROC Curves\n",
    "<ul>\n",
    "    <li>Calculate FPR, TPR from the matching scores.</li>\n",
    "    <li>Plot FAR and FRR as a function of matching scores.</li>\n",
    "    <li>Plot the ROC curve. Plot for linear and logarithmic scale if needed. What do you observe?</li>\n",
    "    <li>Plot the Detection Error Trade-off (DET) curve. How does it compare to ROC?</li>\n",
    "</ul>  \n",
    "</div>\n",
    "\n",
    "\n",
    "<div class=\"alert alert-block alert-info\">\n",
    "<b>Tip:</b> \n",
    "We highly recommend you use the <a href=\"https://scikit-learn.org/stable/index.html\">scikit-learn</a> package, it contains standard and advanced routines for machine learning, including classificaton and validation algorithms.\n",
    "</div>"
   ]
  },
  {
   "cell_type": "code",
   "execution_count": 18,
   "metadata": {},
   "outputs": [
    {
     "data": {
      "application/vnd.jupyter.widget-view+json": {
       "model_id": "5319d76b35624da6a4e22c4ceca74a06",
       "version_major": 2,
       "version_minor": 0
      },
      "text/plain": [
       "0it [00:00, ?it/s]"
      ]
     },
     "metadata": {},
     "output_type": "display_data"
    },
    {
     "data": {
      "application/vnd.jupyter.widget-view+json": {
       "model_id": "45a5b86b6ccd469bb42cd465bd608c71",
       "version_major": 2,
       "version_minor": 0
      },
      "text/plain": [
       "0it [00:00, ?it/s]"
      ]
     },
     "metadata": {},
     "output_type": "display_data"
    },
    {
     "name": "stdout",
     "output_type": "stream",
     "text": [
      "done: calculated FN, TN, TP, FP for etas\n"
     ]
    }
   ],
   "source": [
    "# find TN, FN and FP,TP for thresholds eta\n",
    "def calculateCharacteristics(eta_list, imposter_scores, genuine_scores):\n",
    "    N = len(imposter_scores)\n",
    "    P = len(genuine_scores)\n",
    "    FN_list = np.zeros(len(eta_list))\n",
    "    TN_list = np.zeros(len(eta_list))\n",
    "    TP_list = np.zeros(len(eta_list))\n",
    "    FP_list = np.zeros(len(eta_list))\n",
    "    for idx, current_eta in tqdm_notebook(enumerate(eta_list)):\n",
    "        for score in imposter_scores:\n",
    "            if score>=current_eta:\n",
    "                FP_list[idx] += 1 #this is FAR\n",
    "            else:\n",
    "                TN_list[idx] += 1\n",
    "        for score in genuine_scores:\n",
    "            if score>=current_eta:\n",
    "                TP_list[idx] += 1\n",
    "            else:\n",
    "                FN_list[idx] += 1 #this is FRR\n",
    "    return N,P,FN_list,TN_list,TP_list,FP_list\n",
    "    \n",
    "\n",
    "eta_list = np.arange(0, 0.4, 0.01)\n",
    "li_characteristics_list = calculateCharacteristics(eta_list, imposter_scores_li, genuine_scores_li)\n",
    "N_li = li_characteristics_list[0]\n",
    "P_li = li_characteristics_list[1]\n",
    "FN_list_li = li_characteristics_list[2]\n",
    "TN_list_li = li_characteristics_list[3]\n",
    "TP_list_li = li_characteristics_list[4]\n",
    "FP_list_li = li_characteristics_list[5]\n",
    "\n",
    "ri_characteristics_list = calculateCharacteristics(eta_list, imposter_scores_ri, genuine_scores_ri)\n",
    "N_ri = ri_characteristics_list[0]\n",
    "P_ri = ri_characteristics_list[1]\n",
    "FN_list_ri = ri_characteristics_list[2]\n",
    "TN_list_ri = ri_characteristics_list[3]\n",
    "TP_list_ri = ri_characteristics_list[4]\n",
    "FP_list_ri = ri_characteristics_list[5]\n",
    "\n",
    "print(\"done: calculated FN, TN, TP, FP for etas\")"
   ]
  },
  {
   "cell_type": "code",
   "execution_count": 19,
   "metadata": {
    "tags": []
   },
   "outputs": [
    {
     "name": "stdout",
     "output_type": "stream",
     "text": [
      "done: calculated FPR, TPR, FRR for etas\n"
     ]
    }
   ],
   "source": [
    "\"\"\"Calculate FPR, TPR from the matching scores.\"\"\"\n",
    "FPR_li = np.true_divide(FP_list_li,N_li)\n",
    "TPR_li = np.true_divide(TP_list_li,P_li)\n",
    "FNR_li = np.true_divide(FN_list_li,P_li)\n",
    "TNR_li = np.true_divide(TN_list_li,P_li)\n",
    "\n",
    "FPR_ri = np.true_divide(FP_list_ri,N_ri)\n",
    "TPR_ri = np.true_divide(TP_list_ri,P_ri)\n",
    "FNR_ri = np.true_divide(FN_list_ri,P_ri)\n",
    "TNR_ri = np.true_divide(TN_list_ri,P_ri)\n",
    "print(\"done: calculated FPR, TPR, FRR for etas\")"
   ]
  },
  {
   "cell_type": "code",
   "execution_count": 20,
   "metadata": {
    "tags": []
   },
   "outputs": [
    {
     "ename": "ZeroDivisionError",
     "evalue": "division by zero",
     "output_type": "error",
     "traceback": [
      "\u001b[1;31m---------------------------------------------------------------------------\u001b[0m",
      "\u001b[1;31mZeroDivisionError\u001b[0m                         Traceback (most recent call last)",
      "\u001b[1;32m~\\AppData\\Local\\Temp/ipykernel_10296/725443688.py\u001b[0m in \u001b[0;36m<module>\u001b[1;34m\u001b[0m\n\u001b[0;32m     26\u001b[0m         \u001b[0maverage\u001b[0m \u001b[1;33m+=\u001b[0m \u001b[0mcurrent_eta\u001b[0m\u001b[1;33m\u001b[0m\u001b[1;33m\u001b[0m\u001b[0m\n\u001b[0;32m     27\u001b[0m         \u001b[0mtotal\u001b[0m \u001b[1;33m+=\u001b[0m \u001b[1;36m1\u001b[0m\u001b[1;33m\u001b[0m\u001b[1;33m\u001b[0m\u001b[0m\n\u001b[1;32m---> 28\u001b[1;33m \u001b[0mprint\u001b[0m\u001b[1;33m(\u001b[0m\u001b[0maverage\u001b[0m\u001b[1;33m/\u001b[0m\u001b[0mtotal\u001b[0m\u001b[1;33m)\u001b[0m\u001b[1;33m\u001b[0m\u001b[1;33m\u001b[0m\u001b[0m\n\u001b[0m\u001b[0;32m     29\u001b[0m \u001b[1;33m\u001b[0m\u001b[0m\n\u001b[0;32m     30\u001b[0m \u001b[0maverage\u001b[0m \u001b[1;33m=\u001b[0m \u001b[1;36m0\u001b[0m\u001b[1;33m\u001b[0m\u001b[1;33m\u001b[0m\u001b[0m\n",
      "\u001b[1;31mZeroDivisionError\u001b[0m: division by zero"
     ]
    },
    {
     "data": {
      "image/png": "[encoded data removed]",
      "text/plain": [
       "<Figure size 1247.24x708.661 with 2 Axes>"
      ]
     },
     "metadata": {
      "needs_background": "light"
     },
     "output_type": "display_data"
    }
   ],
   "source": [
    "\"\"\"Plot FAR and FRR as a function of the decision threshold.\"\"\"\n",
    "# FAR <=> FPR\n",
    "# FRR <=> FNR <=> FN/P <=> 1-TPR\n",
    "fig, ax = plt.subplots(1, 2)\n",
    "ax[0].plot(eta_list,FPR_li, label = \"FPR\")\n",
    "ax[0].plot(eta_list,FNR_li, label = \"FNR\")\n",
    "ax[1].plot(eta_list,FPR_ri, label = \"FPR\")\n",
    "ax[1].plot(eta_list,FNR_ri, label = \"FNR\")\n",
    "\n",
    "fig = plt.gcf()\n",
    "ax[0].set_xlabel(\"eta_list\")\n",
    "ax[0].set_ylabel(\"FPR_FNR_ri\")\n",
    "ax[0].set_title(\"Left Index finger FPR to FNR\")\n",
    "ax[1].set_xlabel(\"eta_list\")\n",
    "ax[1].set_ylabel(\"FPR_FNR_li\")\n",
    "ax[1].set_title(\"Right Index finger FPR to FNR\")\n",
    "ax[0].legend()\n",
    "ax[1].legend()\n",
    "fig.set_size_inches(44/2.54,25/2.54)\n",
    "\n",
    "\n",
    "average = 0\n",
    "total = 0\n",
    "for i,current_eta in enumerate(eta_list):\n",
    "    if FPR_li[i] + 0.002 > FNR_li[i] and FPR_li[i] - 0.002 < FNR_li[i]:\n",
    "        average += current_eta\n",
    "        total += 1\n",
    "print(average/total)\n",
    "    \n",
    "average = 0\n",
    "total = 0\n",
    "for i,current_eta in enumerate(eta_list):\n",
    "    if FPR_ri[i] + 0.01 > FNR_ri[i] and FPR_ri[i] - 0.01 < FNR_ri[i]:\n",
    "        average += current_eta\n",
    "        total += 1\n",
    "print(average/total)\n",
    "\n",
    "# fig2, ax2 = plt.subplots(1, 2)\n",
    "# ax2[0].plot(FPR_li, FNR_li, label = \"FPR\")\n",
    "# ax2[1].plot(FPR_li, FNR_li,  label = \"FNR\")\n",
    "# fig2.set_size_inches(44/2.54,25/2.54)\n",
    "# ax2[0].set_xlabel(\"FPR\")\n",
    "# ax2[0].set_ylabel(\"FNR\")\n",
    "# ax2[0].set_title(\"Left Index finger FPR to FNR\")\n",
    "# ax2[1].set_xlabel(\"FPR\")\n",
    "# ax2[1].set_ylabel(\"FNR\")\n",
    "# ax2[1].set_title(\"Right Index finger FPR to FNR\")\n",
    "# ax2[0].set_ybound(0,1)\n",
    "# ax2[1].set_ybound(0,1)\n",
    "# ax2[0].set_xbound(0,1)\n",
    "# ax2[1].set_xbound(0,1)\n",
    "# ax2[0].legend()\n",
    "# ax2[1].legend()"
   ]
  },
  {
   "cell_type": "code",
   "execution_count": null,
   "metadata": {
    "tags": []
   },
   "outputs": [],
   "source": [
    "\"\"\"plot the ROC curve (TPR against the FPR for different threshold values)\"\"\"\n",
    "fig, ax = plt.subplots(1, 2)\n",
    "ax[0].plot(np.multiply(FPR_li,100), np.multiply(TPR_li,100))\n",
    "ax[1].plot(np.multiply(FPR_ri,100), np.multiply(TPR_ri,100))\n",
    "\n",
    "fig2, ax2 = plt.subplots(1, 2)\n",
    "ax2[0].plot(np.multiply(FPR_li,100), np.multiply(TPR_li,100))\n",
    "ax2[1].plot(np.multiply(FPR_ri,100), np.multiply(TPR_ri,100))\n",
    "\n",
    "ax[0].set_xlabel(\"FPR\")\n",
    "ax[0].set_ylabel(\"TPR\")\n",
    "ax[0].set_title(\"Left Index finger FPR to TPR Logarithmic\")\n",
    "ax[1].set_xlabel(\"FPR\")\n",
    "ax[1].set_ylabel(\"TPR\")\n",
    "ax[1].set_title(\"Right Index finger FPR to TPR Logarithmic\")\n",
    "ax[0].set_ybound(0,100)\n",
    "ax[1].set_ybound(0,100)\n",
    "ax[0].set_xbound([0, 100])\n",
    "ax[1].set_xbound([0, 100])\n",
    "ax[0].set_xscale('log')\n",
    "ax[1].set_xscale('log')\n",
    "ax2[0].set_xlabel(\"FPR\")\n",
    "ax2[0].set_ylabel(\"TPR\")\n",
    "ax2[0].set_title(\"Left Index finger FPR to TPR Linear\")\n",
    "ax2[1].set_xlabel(\"FPR\")\n",
    "ax2[1].set_ylabel(\"TPR\")\n",
    "ax2[1].set_title(\"Right Index finger FPR to TPR Linear\")\n",
    "ax2[0].set_ybound(0,100)\n",
    "ax2[1].set_ybound(0,100)\n",
    "ax2[0].set_xbound([0, 100])\n",
    "ax2[1].set_xbound([0, 100])\n",
    "fig.set_size_inches(44/2.54,25/2.54)\n",
    "fig2.set_size_inches(44/2.54,25/2.54)"
   ]
  },
  {
   "cell_type": "code",
   "execution_count": null,
   "metadata": {
    "tags": []
   },
   "outputs": [],
   "source": [
    "\"\"\"plot the DET curve (FRR (=1-tpr) against the FAR for different threshold values)\"\"\"\n",
    "# FAR <=> FPR\n",
    "# FRR <=> FNR <=> FN/P <=> 1-TPR\n",
    "fig, ax = plt.subplots(1, 2)\n",
    "ax[0].plot(np.multiply(FPR_li,100), np.multiply(FNR_li,100))\n",
    "ax[1].plot(np.multiply(FPR_ri,100), np.multiply(FNR_ri,100))\n",
    "\n",
    "fig = plt.gcf()\n",
    "ax[0].set_xlabel(\"FPR\")\n",
    "ax[0].set_ylabel(\"FNR\")\n",
    "ax[0].set_title(\"DET curve left index finger logarithmic\")\n",
    "ax[1].set_xlabel(\"FPR\")\n",
    "ax[1].set_ylabel(\"FNR\")\n",
    "ax[1].set_title(\"DET curve left index finger logarithmic\")\n",
    "ax[0].set_ybound(0,100)\n",
    "ax[1].set_ybound(0,100)\n",
    "ax[0].set_xbound(0, 100)\n",
    "ax[1].set_xbound(0, 100)\n",
    "ax[0].set_yscale('log')\n",
    "ax[1].set_yscale('log')\n",
    "ax[0].set_xscale('log')\n",
    "ax[1].set_xscale('log')\n",
    "fig.set_size_inches(44/2.54,25/2.54)\n",
    "\n",
    "fig2, ax2 = plt.subplots(1, 2)\n",
    "ax2[0].plot(np.multiply(FPR_li,100), np.multiply(FNR_li,100))\n",
    "ax2[1].plot(np.multiply(FPR_ri,100), np.multiply(FNR_ri,100))\n",
    "\n",
    "fig = plt.gcf()\n",
    "ax2[0].set_xlabel(\"FPR\")\n",
    "ax2[0].set_ylabel(\"FNR\")\n",
    "ax2[0].set_title(\"DET curve left index finger linear\")\n",
    "ax2[1].set_xlabel(\"FPR\")\n",
    "ax2[1].set_ylabel(\"FNR\")\n",
    "ax2[1].set_title(\"DET curve left index finger linear\")\n",
    "ax2[0].set_ybound(0,100)\n",
    "ax2[1].set_ybound(0,100)\n",
    "ax2[0].set_xbound([0, 100])\n",
    "ax2[1].set_xbound([0, 100])\n",
    "fig2.set_size_inches(44/2.54,25/2.54)"
   ]
  },
  {
   "cell_type": "markdown",
   "metadata": {},
   "source": [
    "#### 3. F1 and accuracy as metrics\n",
    "\n",
    "While biometric systems are, traditionally, evaluated using FMR and FRR and ROC/DET curves, we can also have a look at traditional [classification metrics](https://scikit-learn.org/stable/modules/model_evaluation.html#classification-metrics) such as classification accuracy (or error) and F1 measure. "
   ]
  },
  {
   "cell_type": "markdown",
   "metadata": {},
   "source": [
    "<div class=\"alert alert-block alert-success\">\n",
    "<b>Q3: </b> Classification Metrics\n",
    "<ul>\n",
    "    <li>Plot F1 and accuracy as a function of the decision thresholds on the similarity score.</li>\n",
    "    <li>Calculate the threshold and accuracy for which F1 is maximal. Is it an interesting operating point?</li>\n",
    "    <li>Do the same for the classification error (accuracy). Is there a difference?</li>\n",
    "    <li>Is accuracy a good performance metric in this case?</li>\n",
    "</ul>  \n",
    "</div>\n",
    "\n",
    "<div class=\"alert alert-block alert-info\">\n",
    "<b>Tip:</b> \n",
    "We highly recommend you use the <a href=\"https://scikit-learn.org/stable/modules/model_evaluation.html#classification-metrics\">scikit-learn classification metrics</a> to assist.\n",
    "</div>\n"
   ]
  },
  {
   "cell_type": "code",
   "execution_count": null,
   "metadata": {
    "tags": []
   },
   "outputs": [],
   "source": [
    "\"\"\"Plot F1 and accuracy as a function of the decision thresholds on the similarity score.\"\"\"\n",
    "# Hint: evaluating for ± 50 threshold values should suffice\n",
    "# you can use precision and recall or just plug in the TP TP FP FN lists\n",
    "# precision_li = np.true_divide(TP_list_li,(TP_list_li+FP_list_li))\n",
    "# recall_li = np.true_divide(TP_list_li,(TP_list_li+FN_list_li))\n",
    "# precision_ri = np.true_divide(TP_list_ri,(TP_list_ri+FP_list_ri))\n",
    "# recall_ri = np.true_divide(TP_list_ri,(TP_list_ri+FN_list_ri))\n",
    "\n",
    "# F1_li = np.multiply(2,(np.true_divide((precision_li*recall_li),(precision_li+recall_li))))\n",
    "# F1_ri = np.multiply(2,(np.true_divide((precision_ri*recall_ri),(precision_ri+recall_ri))))\n",
    "\n",
    "F1_li = np.true_divide((np.multiply(2,TP_list_li)),(np.multiply(2,TP_list_li) + FP_list_li + FN_list_li))\n",
    "F1_ri = np.true_divide((np.multiply(2,TP_list_ri)),(np.multiply(2,TP_list_ri) + FP_list_ri + FN_list_ri))\n",
    "accuracy_li = np.true_divide((TP_list_li + TN_list_li),(TP_list_li + TN_list_li + FP_list_li + FN_list_li))\n",
    "accuracy_ri = np.true_divide((TP_list_ri + TN_list_ri),(TP_list_ri + TN_list_ri + FP_list_ri + FN_list_ri))\n",
    "\n",
    "\n",
    "fig, ax = plt.subplots(1, 2)\n",
    "ax[0].plot(eta_list, F1_li, label=\"F1\")\n",
    "ax[0].plot(eta_list, accuracy_li, label=\"accuracy\")\n",
    "ax[1].plot(eta_list, F1_ri, label=\"F1\")\n",
    "ax[1].plot(eta_list, accuracy_ri, label=\"accuracy\")\n",
    "ax[0].set_xbound(0,0.5)\n",
    "ax[1].set_xbound(0,0.5)\n",
    "ax[0].legend()\n",
    "ax[1].legend()\n",
    "\n",
    "fig = plt.gcf()\n",
    "ax[0].set_xlabel(\"eta\")\n",
    "ax[0].set_ylabel(\"Accuracy and F1\")\n",
    "ax[0].set_title(\"Left Index finger accuracy and F1\")\n",
    "ax[1].set_xlabel(\"eta\")\n",
    "ax[1].set_ylabel(\"Accuracy and F1\")\n",
    "ax[1].set_title(\"Right Index finger accuracy and F1\")\n",
    "fig.set_size_inches(44/2.54,25/2.54)"
   ]
  },
  {
   "cell_type": "code",
   "execution_count": null,
   "metadata": {
    "tags": []
   },
   "outputs": [],
   "source": [
    "\"\"\"Calculate the threshold for which F1 is maximal.\"\"\"\n",
    "print(\"eta for max F1 left \",eta_list[np.argmax(F1_li)])\n",
    "print(\"eta for max F1 right \",eta_list[np.argmax(F1_ri)])\n",
    "\n",
    "print(\"accuracy for max F1 left \",accuracy_li[np.argmax(F1_li)])\n",
    "print(\"accuracy for max F1 right \",accuracy_ri[np.argmax(F1_ri)])\n",
    "\n",
    "print(\"Max F1 left \", F1_li[np.argmax(F1_li)])\n",
    "print(\"Max F1 right \",F1_ri[np.argmax(F1_ri)])"
   ]
  },
  {
   "cell_type": "code",
   "execution_count": null,
   "metadata": {
    "tags": []
   },
   "outputs": [],
   "source": [
    "\"\"\"Do the same for the classification error (or accuracy)\"\"\"\n",
    "print(\"eta for max accuracy left \",eta_list[np.argmax(accuracy_li)])\n",
    "print(\"eta for max accuracy right \",eta_list[np.argmax(accuracy_ri)])\n",
    "\n",
    "print(\"max accuracy left \",accuracy_li[np.argmax(accuracy_li)])\n",
    "print(\"max accuracy right \",accuracy_ri[np.argmax(accuracy_ri)])\n",
    "\n",
    "print(\"F1 for max accuracy left \",F1_li[np.argmax(accuracy_li)])\n",
    "print(\"F1 for max accuracy right \",F1_ri[np.argmax(accuracy_ri)])"
   ]
  },
  {
   "cell_type": "markdown",
   "metadata": {},
   "source": [
    "#### 4. AUC and EER as summary measures\n",
    "\n",
    "The overall performance (over all threshold settings) is typically expressed through:\n",
    "\n",
    "* The Area Under the Curve (AUC) (with TPR((y-axis) vs FPR (x-axis))\n",
    "\n",
    "<img src=\"img/AUC.png\" width=\"250\" height=\"auto\"/>\n",
    "\n",
    "The AUC can be used to compare different systems. The larger this number, the better.\n",
    "However, since it is a summary measure, always inspect the full ROC curve to make decisions about performance given operating conditions (in wich FRR, FAR regime to work e.g.).\n",
    "\n",
    "* The Equal Error Rate (EER), which is the point on the ROC-curve where FAR(FMR) equals FRR (1-TAR). A lower EER value indicates better performance. \n",
    "\n",
    "<img src=\"img/EER.png\" width=\"300\" height=\"300\"/>"
   ]
  },
  {
   "cell_type": "markdown",
   "metadata": {},
   "source": [
    "<div class=\"alert alert-block alert-success\">\n",
    "<b>Q4: </b> AUC, EER and alternatives\n",
    "<ul>\n",
    "    <li>Calculate ROC AUC. Is this a good metric? What does it reveal about the system? </li>\n",
    "    <li>Calculate (by approximation) the EER and plot it on the FAR-FRR curve. Is this a good peration point?</li>\n",
    "    <li>Calculate the decision threshold for which the sum of FRR and FAR is minimal. Is this point similar to the total classification error?</li> \n",
    "    <li>Can you suggest other strategies that give you an \"optimal\" performance? Calculate and discuss their (de)merits.</li>\n",
    "</ul>  \n",
    "</div>\n"
   ]
  },
  {
   "cell_type": "code",
   "execution_count": null,
   "metadata": {
    "tags": []
   },
   "outputs": [],
   "source": [
    "\"\"\"Calculate the ROC AUC.\"\"\"\n",
    "# fig, ax = plt.subplots(1, 2)\n",
    "# ax[0].plot(FPR_li, TPR_li)\n",
    "# ax[1].plot(FPR_ri, TPR_ri)\n",
    "# you can also not use a library as seen above\n",
    "\n",
    "\n",
    "fpr_2_li, tpr_2_li, thresholds_2_li = metrics.roc_curve(li_genuine_id, li_scores)\n",
    "fpr_2_ri, tpr_2_ri, thresholds_2_ri = metrics.roc_curve(ri_genuine_id, ri_scores)\n",
    "fig, ax = plt.subplots(1, 2)\n",
    "ax[0].plot(fpr_2_li,tpr_2_li)\n",
    "ax[0].set_xlim([0, 1])\n",
    "ax[0].set_ylim([0, 1])\n",
    "ax[1].plot(fpr_2_ri,tpr_2_ri)\n",
    "ax[1].set_xlim([0, 1])\n",
    "ax[1].set_ylim([0, 1])\n",
    "ax[0].set_xlabel(\"FPR\")\n",
    "ax[0].set_ylabel(\"TPR\")\n",
    "ax[0].set_title(\"Left Index finger ROC\")\n",
    "ax[1].set_xlabel(\"FPR\")\n",
    "ax[1].set_ylabel(\"TPR\")\n",
    "ax[1].set_title(\"Left Index finger ROC\")\n",
    "fig.set_size_inches(44/2.54,25/2.54)\n",
    "\n",
    "print(metrics.roc_auc_score(li_genuine_id, li_scores))\n",
    "print(metrics.roc_auc_score(ri_genuine_id, ri_scores))"
   ]
  },
  {
   "cell_type": "code",
   "execution_count": null,
   "metadata": {
    "tags": []
   },
   "outputs": [],
   "source": [
    "\"\"\"Calculate (by approximation) the EER and plot it on the FAR-FRR curve.\"\"\"\n",
    "# hints:\n",
    "#  - avoid using a library that directly computes the EER for this assignment \n",
    "fig, ax = plt.subplots(1, 2)\n",
    "ax[0].plot(np.multiply(FPR_li,100), np.multiply(FNR_li,100))\n",
    "ax[0].set_xlim([0, 1])\n",
    "ax[0].set_ylim([0, 1])\n",
    "ax[1].plot(np.multiply(FPR_ri,100), np.multiply(FNR_ri,100))\n",
    "ax[1].set_xlim([0, 1])\n",
    "ax[1].set_ylim([0, 1])\n",
    "ax[0].set_xlabel(\"FPR\")\n",
    "ax[0].set_ylabel(\"FNR\")\n",
    "ax[0].set_title(\"DET curve right index finger linear\")\n",
    "ax[1].set_xlabel(\"FPR\")\n",
    "ax[1].set_ylabel(\"FNR\")\n",
    "ax[1].set_title(\"DET curve left index finger linear\")\n",
    "fig.set_size_inches(45/2.54,22.5/2.54)\n",
    "\n",
    "\n",
    "eer_line_y_ri = np.zeros(len(FPR_ri))\n",
    "for i in range(0, len(FPR_ri)):\n",
    "    eer_line_y_ri[i] = FPR_ri[i]\n",
    "eer_line_y_li = np.zeros(len(FPR_li))\n",
    "for i in range(0, len(FPR_li)):\n",
    "    eer_line_y_li[i] = FPR_li[i]\n",
    "ax[0].plot(np.multiply(FPR_ri,100),np.multiply(eer_line_y_ri,100))\n",
    "ax[1].plot(np.multiply(FPR_li,100),np.multiply(eer_line_y_li,100))\n",
    "\n",
    "ax[0].set_xlim([0, 20])\n",
    "ax[0].set_ylim([0, 20])\n",
    "ax[1].set_xlim([0, 20])\n",
    "ax[1].set_ylim([0, 20])\n",
    "\n",
    "EER_li = FNR_li[np.nanargmin(np.absolute((FNR_li - FPR_li)))]\n",
    "print(\"FNR and FPR value left \",EER_li)\n",
    "EER_ri = FNR_ri[np.nanargmin(np.absolute((FNR_ri - FPR_ri)))]\n",
    "print(\"FNR and FPR value right \",EER_ri)\n",
    "\n",
    "eta_EER_li = np.floor(np.average(np.where(FNR_li == EER_li)[0]))\n",
    "print(\"eta value EER left \", eta_list[int(eta_EER_li)])\n",
    "eta_EER_ri = np.floor(np.average(np.where(FNR_ri == EER_ri)[0]))\n",
    "print(\"eta value EER right \",eta_list[int(eta_EER_ri)])"
   ]
  },
  {
   "cell_type": "code",
   "execution_count": null,
   "metadata": {
    "tags": []
   },
   "outputs": [],
   "source": [
    "\"\"\"Calculate the decision threshold for which the sum of FRR and FAR is minimal.\"\"\"\n",
    "# hint: same as above this means that the threshold is the EER point because 1- TPR = FPR so max for TPR is min for FPR same time as FPR min is best\n",
    "sum_FRR_FAR_li = FPR_li + FNR_li\n",
    "sum_FRR_FAR_ri = FPR_ri + FNR_ri\n",
    "print(\"sum value EER left \",eta_list[(np.argmin(sum_FRR_FAR_li))])\n",
    "print(\"sum value EER right \",eta_list[(np.argmin(sum_FRR_FAR_ri))])"
   ]
  },
  {
   "cell_type": "code",
   "execution_count": null,
   "metadata": {},
   "outputs": [],
   "source": [
    "# a different performance metric would be that of d-prime value\n",
    "def CalculateDPrime(genuine_scores, imposter_scores):\n",
    "    mu_g = np.average(genuine_scores)\n",
    "    mu_i = np.average(imposter_scores)\n",
    "    omega_g = np.std(genuine_scores)\n",
    "    omega_i = np.std(imposter_scores)\n",
    "    dPrime = 1.414*(mu_g-mu_i)/ np.sqrt(omega_g**2 + omega_i**2)\n",
    "    return dPrime\n",
    "\n",
    "print(CalculateDPrime(genuine_scores_li, imposter_scores_li))\n",
    "print(CalculateDPrime(genuine_scores_ri, imposter_scores_ri))"
   ]
  },
  {
   "cell_type": "markdown",
   "metadata": {},
   "source": [
    "#### 5. Evaluation using Precision and Recall\n",
    "\n",
    "[1]: <https://link.springer.com/book/10.1007/978-0-387-77326-1> ('Introduction to Biometrics' by AK Jain et al)\n",
    "[2]: <https://machinelearningmastery.com/roc-curves-and-precision-recall-curves-for-classification-in-python/> (How and When to Use ROC Curves and Precision-Recall Curves for Classification in Python)\n",
    "[3]: <https://en.wikipedia.org/w/index.php?title=Information_retrieval&oldid=793358396#Average_precision> (Average precision)\n",
    "\n",
    "In a general binary classification setting, one also often presents Precision-Recall curves. PR-curves are sometimes summarized using the [average precision scores][3]. How and when to use ROC or PRC is discussed [here][2]. A more general discussion of these measures is provided [here](https://towardsdatascience.com/beyond-accuracy-precision-and-recall-3da06bea9f6c).  \n",
    "\n",
    "Scikit-Learn provides routines for calculating these curves and numbers as demonstrated in the code below from this [link][2], it also provides an implementation of the [average precision scores](https://scikit-learn.org/stable/modules/generated/sklearn.metrics.average_precision_score.html#sklearn.metrics.average_precision_score).\n"
   ]
  },
  {
   "cell_type": "markdown",
   "metadata": {},
   "source": [
    "<div class=\"alert alert-block alert-success\">\n",
    "<b>Q5: </b> Precision-Recall curves and related summary measures\n",
    "<ul>\n",
    "    <li>Calculate and plot the Precision-Recall curve for this system. What does it reveal about the performance of the system?</li>\n",
    "    <li>Calculate the Area Under the PR-curve. Discuss.</li>\n",
    "    <li>Calculate the average precision scores. Discuss its value.</li> \n",
    "</ul>  \n",
    "</div>\n"
   ]
  },
  {
   "cell_type": "code",
   "execution_count": null,
   "metadata": {
    "tags": []
   },
   "outputs": [],
   "source": [
    "\"\"\"Calculate and plot the Precision-Recall curve for this system\"\"\"\n",
    "# or manualy\n",
    "# Precision_li = np.true_divide(TP_list_li,(TP_list_li + FP_list_li))\n",
    "# Recall_li = np.true_divide(TP_list_li,(TP_list_li + FN_list_li))\n",
    "# Precision_ri = np.true_divide(TP_list_ri,(TP_list_ri + FP_list_ri))\n",
    "# Recall_ri = np.true_divide(TP_list_ri,(TP_list_ri + FN_list_ri))\n",
    "# fig, ax = plt.subplots(1, 2)\n",
    "\n",
    "Precision_li, Recall_li, thresholds = metrics.precision_recall_curve(li_genuine_id, li_scores)\n",
    "Precision_ri, Recall_ri, thresholds = metrics.precision_recall_curve(ri_genuine_id, ri_scores)\n",
    "\n",
    "\n",
    "ax[0].plot(Recall_li,Precision_li)\n",
    "ax[1].plot(Recall_ri,Precision_ri)\n",
    "ax[0].set_xbound([0, 1])\n",
    "ax[0].set_ybound([0, 1])\n",
    "ax[1].set_xbound([0, 1])\n",
    "ax[1].set_ybound([0, 1])\n",
    "ax[0].set_xlabel(\"recall\")\n",
    "ax[0].set_ylabel(\"precision\")\n",
    "ax[0].set_title(\"recall precision curve right index finger\")\n",
    "ax[1].set_xlabel(\"recall\")\n",
    "ax[1].set_ylabel(\"precision\")\n",
    "ax[1].set_title(\"recall precision curve left index finger\")\n",
    "fig.set_size_inches(44/2.54,25/2.54)"
   ]
  },
  {
   "cell_type": "code",
   "execution_count": null,
   "metadata": {
    "tags": []
   },
   "outputs": [],
   "source": [
    "\"\"\"Calculate the Area Under the PR-curve.\"\"\"\n",
    "print(\"AUC PR-curve left \",metrics.auc(Recall_li,Precision_li))\n",
    "print(\"AUC PR-curve right \",metrics.auc(Recall_ri,Precision_ri))"
   ]
  },
  {
   "cell_type": "code",
   "execution_count": null,
   "metadata": {
    "tags": []
   },
   "outputs": [],
   "source": [
    "\"\"\"Calculate the average precision scores\"\"\"\n",
    "print(\"average precision score left \",metrics.average_precision_score(li_genuine_id, li_scores))\n",
    "print(\"average precision score right \",metrics.average_precision_score(ri_genuine_id, ri_scores))"
   ]
  },
  {
   "cell_type": "markdown",
   "metadata": {},
   "source": [
    "## III. Validation of identification system "
   ]
  },
  {
   "cell_type": "markdown",
   "metadata": {},
   "source": [
    "### Evaluation using CMC curves\n",
    "In an identification scenario one has a 1-to-many or multi-class classification problem. The performance of such a system is typically measured by the Cumulative Match Characteristic (CMC) curve. This curve plots the experimental probability that a correct identification is returned within the top-x (x=1, ..., N) ranked matching scores. \n",
    "\n",
    "<img src=\"img/CMC.jpg\" width=\"500\" height=\"auto\"/>\n",
    "\n",
    "[Bolle et al.](https://ieeexplore.ieee.org/document/1544394) show that:\n",
    "> the CMC is also related to the FAR and FRR of a 1:1 matcher, i.e., the matcher that is used to rank the candidates by sorting the scores. This has as a consequence that when a 1:1 matcher is used for identification, that is, for sorting match scores from high to low, the CMC does not offer any additional information beyond the FAR and FRR curves. The CMC is just another way of displaying the data and can be computed from the FAR and FRR.\n",
    "\n",
    "This paper is not mandatory but those interested can have a look at it.\n",
    "\n",
    "CMC curves can easily be generated once you have the ranked matching scores for every test sample. In our example we can easily calculate it from the similarity matrix (note that in this very particular case we have only one genuine pair per test sample). \n",
    "\n"
   ]
  },
  {
   "cell_type": "markdown",
   "metadata": {},
   "source": [
    "<div class=\"alert alert-block alert-success\">\n",
    "<b>Q6: </b> CMC curves\n",
    "<ul>\n",
    "    <li>Calculate the Cumulative Matching Characteristic curve (implement this yourself)</li>\n",
    "    <li>Compute the Rank-1 Recognition Rate.</li>\n",
    "</ul>  \n",
    "</div>\n"
   ]
  },
  {
   "cell_type": "code",
   "execution_count": 12,
   "metadata": {},
   "outputs": [
    {
     "data": {
      "application/vnd.jupyter.widget-view+json": {
       "model_id": "78f7c326337c4096b0089d172af06644",
       "version_major": 2,
       "version_minor": 0
      },
      "text/plain": [
       "  0%|          | 0/1000 [00:00<?, ?it/s]"
      ]
     },
     "metadata": {},
     "output_type": "display_data"
    },
    {
     "data": {
      "application/vnd.jupyter.widget-view+json": {
       "model_id": "a4e4896be7ed4723b21d939f8198b408",
       "version_major": 2,
       "version_minor": 0
      },
      "text/plain": [
       "  0%|          | 0/1000 [00:00<?, ?it/s]"
      ]
     },
     "metadata": {},
     "output_type": "display_data"
    },
    {
     "data": {
      "image/png": "[encoded data removed]",
      "text/plain": [
       "<Figure size 1247.24x708.661 with 2 Axes>"
      ]
     },
     "metadata": {
      "needs_background": "light"
     },
     "output_type": "display_data"
    },
    {
     "data": {
      "image/png": "[encoded data removed]",
      "text/plain": [
       "<Figure size 1247.24x708.661 with 2 Axes>"
      ]
     },
     "metadata": {
      "needs_background": "light"
     },
     "output_type": "display_data"
    }
   ],
   "source": [
    "\"\"\"Calculate the Cumulative Matching Characteristic curve.\"\"\"\n",
    "# Hint: don't use a library\n",
    "\n",
    "# manual without library\n",
    "def calculateCumSum(matrix):\n",
    "    pos = np.zeros(len(matrix[0]))\n",
    "    for i in tqdm_notebook(range(0, len(matrix[0]))):\n",
    "        temp_row = np.sort(ri_similarity_matrix.values[i])[::-1]\n",
    "        temp_pos = np.where(temp_row == ri_similarity_matrix.values[i][i])\n",
    "        pos[i] = temp_pos[0][0]\n",
    "    pos_sort = np.sort(pos)\n",
    "\n",
    "    cumsum = np.zeros(len(pos))\n",
    "    for ind,position in enumerate(pos_sort):\n",
    "        cumsum[int(position)] += 1\n",
    "\n",
    "    for ind,sum in enumerate(cumsum):\n",
    "        if ind>0:\n",
    "            cumsum[ind] =  cumsum[ind] + cumsum[ind-1]\n",
    "    return np.insert(np.divide(cumsum,len(pos)), 0, 0)\n",
    "\n",
    "# with library\n",
    "def calculateCumSum2(matrix):\n",
    "    pos = np.zeros(len(matrix[0]))\n",
    "    for i in tqdm_notebook(range(0, len(matrix[0]))):\n",
    "        temp_row = np.sort(ri_similarity_matrix.values[i])[::-1]\n",
    "        if (i==1) :\n",
    "            print(temp_row)\n",
    "        temp_pos = np.where(temp_row == ri_similarity_matrix.values[i][i])\n",
    "        pos[i] = temp_pos[0][0]\n",
    "    pos_sort = np.sort(pos)\n",
    "    cdf = np.cumsum(norm.pdf(pos_sort, np.mean(pos_sort), np.std(pos_sort)))\n",
    "    cdf = cdf/max(cdf)\n",
    "    return pos_sort, cdf\n",
    "    \n",
    "    \n",
    "# print(li_similarity_matrix)\n",
    "cumsum_li = calculateCumSum(li_similarity_matrix.values)\n",
    "cumsum_ri = calculateCumSum(ri_similarity_matrix.values)\n",
    "\n",
    "# cumsum_li = calculateCumSum(li_similarity_matrix.values)[0]\n",
    "# cumsum_ri = calculateCumSum(ri_similarity_matrix.values)[0]\n",
    "# pos_li = calculateCumSum2(li_similarity_matrix.values)[1]\n",
    "# pos_ri = calculateCumSum2(ri_similarity_matrix.values)[1]\n",
    "\n",
    "fig, ax = plt.subplots(2, 1)\n",
    "ax[0].plot(cumsum_li)\n",
    "ax[1].plot(cumsum_ri)\n",
    "ax[0].set_xbound([-10, 1000])\n",
    "ax[0].set_ybound([0, 1.2])\n",
    "ax[1].set_xbound([-10, 1000])\n",
    "ax[1].set_ybound([0, 1.2])\n",
    "ax[0].set_xlabel(\"Rank (t)\")\n",
    "ax[0].set_ylabel(\"Rank-t identification rate (%)\")\n",
    "ax[0].set_title(\"CMC Curve Left index finger\")\n",
    "ax[1].set_xlabel(\"Rank (t)\")\n",
    "ax[1].set_ylabel(\"Rank-t identification rate (%)\")\n",
    "ax[1].set_title(\"CMC Curve Right index finger\")\n",
    "fig.set_size_inches(44/2.54,25/2.54)\n",
    "\n",
    "fig2, ax2 = plt.subplots(2, 1)\n",
    "ax2[0].plot(cumsum_li)\n",
    "ax2[1].plot(cumsum_ri)\n",
    "ax2[0].set_xbound([-10, 1000])\n",
    "ax2[0].set_ybound([0.8, 1.05])\n",
    "ax2[1].set_xbound([-10, 1000])\n",
    "ax2[1].set_ybound([0.8, 1.05])\n",
    "ax2[0].set_xlabel(\"Rank (t)\")\n",
    "ax2[0].set_ylabel(\"Rank-t identification rate (%)\")\n",
    "ax2[0].set_title(\"CMC Curve Left index finger\")\n",
    "ax2[1].set_xlabel(\"Rank (t)\")\n",
    "ax2[1].set_ylabel(\"Rank-t identification rate (%)\")\n",
    "ax2[1].set_title(\"CMC Curve Right index finger\")\n",
    "fig2.set_size_inches(44/2.54,25/2.54)"
   ]
  },
  {
   "cell_type": "code",
   "execution_count": null,
   "metadata": {},
   "outputs": [],
   "source": [
    "\"\"\"compute the Rank-1 Recognition Rate.\"\"\"\n",
    "rrr = 0; \n",
    "print(\"rrr left \",cumsum_li[1])\n",
    "print(\"rrr left \",cumsum_ri[1])"
   ]
  },
  {
   "cell_type": "markdown",
   "metadata": {},
   "source": [
    "<div class=\"alert alert-block alert-success\">\n",
    "<b>Q7: </b> Evaluate different biometric systems\n",
    "<ul>\n",
    "    <li>Use above evaluation techniques to compare the biometric system based on the left index to the right index </li>\n",
    "    <li>Do you see any differences in any of the curves or measures?</li>\n",
    "</ul>  \n",
    "</div>"
   ]
  },
  {
   "cell_type": "markdown",
   "metadata": {},
   "source": [
    "## IV. Assignment Instructions\n",
    "For this assignment you have to submit a report (.pdf) and the implementation of this notebook (.ipynb) to toledo. The report should be between 3-8 pages (more pages $\\nRightarrow$ higher score) and should be structured around the posed questions (Q1,...). The text should demonstrate your understanding of the material and, depending on the question, clearly introduce the context, technique, your expectation and interpretation of the results. Do not limit yourselves to just answering the questions. Feel free to add figures and, if needed, some *small* code snippet to clarify your position. **The report should be self contained, the notebook functions as supplementary material only!**\n",
    "\n",
    "*Note: Make sure you include all the files required to run the notebooks on submission.* <br>\n"
   ]
  },
  {
   "cell_type": "code",
   "execution_count": null,
   "metadata": {
    "jupyter": {
     "outputs_hidden": true
    }
   },
   "outputs": [],
   "source": []
  },
  {
   "cell_type": "code",
   "execution_count": null,
   "metadata": {},
   "outputs": [],
   "source": []
  },
  {
   "cell_type": "code",
   "execution_count": null,
   "metadata": {},
   "outputs": [],
   "source": []
  }
 ],
 "metadata": {
  "kernelspec": {
   "display_name": "Python 3 (ipykernel)",
   "language": "python",
   "name": "python3"
  },
  "language_info": {
   "codemirror_mode": {
    "name": "ipython",
    "version": 3
   },
   "file_extension": ".py",
   "mimetype": "text/x-python",
   "name": "python",
   "nbconvert_exporter": "python",
   "pygments_lexer": "ipython3",
   "version": "3.8.0"
  }
 },
 "nbformat": 4,
 "nbformat_minor": 4
}
